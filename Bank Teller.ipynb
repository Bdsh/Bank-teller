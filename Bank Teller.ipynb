{
 "cells": [
  {
   "cell_type": "code",
   "execution_count": 12,
   "metadata": {},
   "outputs": [],
   "source": [
    "savings_balance = 0\n",
    "checking_balance = 0"
   ]
  },
  {
   "cell_type": "code",
   "execution_count": 13,
   "metadata": {},
   "outputs": [],
   "source": [
    "def check_balance(account_type, checking_balance, savings_balance):\n",
    "    \n",
    "    if account_type == \"savings\":\n",
    "        balance = savings_balance\n",
    "    elif account_type == \"checking\":\n",
    "        balance = checking_balance\n",
    "    else:\n",
    "        return \"Unsuccessful, please enter \\\"checking\\\" or \\\"savings\\\"\"\n",
    "        \n",
    "    balance_statement = \"Your \" + account_type + \" balance is \" + str(balance) + \".\"\n",
    "    \n",
    "    return balance_statement"
   ]
  },
  {
   "cell_type": "code",
   "execution_count": 14,
   "metadata": {},
   "outputs": [
    {
     "name": "stdout",
     "output_type": "stream",
     "text": [
      "Your checking balance is 0.\n"
     ]
    }
   ],
   "source": [
    "print(check_balance(\"checking\", checking_balance, savings_balance))"
   ]
  },
  {
   "cell_type": "code",
   "execution_count": 15,
   "metadata": {},
   "outputs": [],
   "source": [
    "def make_deposit(account_type,amount,checking_balance,savings_balance):\n",
    "    deposit_status = \"\"\n",
    "    if amount > 0:\n",
    "        if account_type == \"savings\":\n",
    "            savings_balance += amount\n",
    "            deposit_status = \"successful\"\n",
    "        elif account_type == \"checking\":\n",
    "            checking_balance += amount\n",
    "            deposit_status = \"successful\"\n",
    "        else:\n",
    "            deposit_status = \"Unsuccessful, please enter \\\"checking\\\" or \\\"savings\\\"\"\n",
    "    else:\n",
    "        deposit_status = \"Unsuccessful, please enter an amount greater than 0\"\n",
    "    \n",
    "    deposit_statement = \"Deposit of \"+ str(amount) + \" dollars to your \" + account_type + \" account was \" + deposit_status + \".\"\n",
    "\n",
    "    #print deposit statement\n",
    "    print(deposit_statement)\n",
    "    \n",
    "    return savings_balance, checking_balance"
   ]
  },
  {
   "cell_type": "code",
   "execution_count": 16,
   "metadata": {},
   "outputs": [
    {
     "name": "stdout",
     "output_type": "stream",
     "text": [
      "Deposit of 10 dollars to your savings account was successful.\n"
     ]
    }
   ],
   "source": [
    "savings_balance, checking_balance = make_deposit(\"savings\",10,checking_balance,savings_balance)"
   ]
  },
  {
   "cell_type": "code",
   "execution_count": 17,
   "metadata": {},
   "outputs": [
    {
     "data": {
      "text/plain": [
       "'Your savings balance is 10.'"
      ]
     },
     "execution_count": 17,
     "metadata": {},
     "output_type": "execute_result"
    }
   ],
   "source": [
    "check_balance(\"savings\", checking_balance, savings_balance)"
   ]
  },
  {
   "cell_type": "code",
   "execution_count": 18,
   "metadata": {},
   "outputs": [
    {
     "name": "stdout",
     "output_type": "stream",
     "text": [
      "Deposit of 200 dollars to your checking account was successful.\n"
     ]
    }
   ],
   "source": [
    "savings_balance, checking_balance = make_deposit(\"checking\",200,checking_balance,savings_balance)"
   ]
  },
  {
   "cell_type": "code",
   "execution_count": 19,
   "metadata": {},
   "outputs": [
    {
     "data": {
      "text/plain": [
       "'Your checking balance is 200.'"
      ]
     },
     "execution_count": 19,
     "metadata": {},
     "output_type": "execute_result"
    }
   ],
   "source": [
    "check_balance(\"checking\", checking_balance, savings_balance)"
   ]
  },
  {
   "cell_type": "code",
   "execution_count": 20,
   "metadata": {},
   "outputs": [],
   "source": [
    "def make_withdrawal(account_type, amount, checking_balance, savings_balance):\n",
    "    \n",
    "    withdrawal_status = \"\"\n",
    "    fail = \"Unsuccessful, please enter amount less than balance\"\n",
    "    \n",
    "    if account_type == \"savings\":\n",
    "        if amount <= savings_balance :\n",
    "            savings_balance -= amount\n",
    "            withdrawal_status = \"successful\"\n",
    "        else:\n",
    "            withdrawal_status = fail\n",
    "        \n",
    "    elif account_type == \"checking\":\n",
    "        if amount <= checking_balance:\n",
    "            checking_balance -= amount\n",
    "            withdrawal_status = \"successful\"\n",
    "        else:\n",
    "            withdrawal_status = fail\n",
    "            \n",
    "    else:\n",
    "        withdrawal_status = \"Unsuccessful, please enter \\\"checking\\\" or \\\"savings\\\"\"\n",
    "        \n",
    "    withdrawal_statement =  \"Withdrawal of \" +  str(amount) + \" dollars to your \" + account_type + \" account was \" + withdrawal_status\n",
    "    \n",
    "    print(withdrawal_statement)\n",
    "    \n",
    "    return savings_balance, checking_balance"
   ]
  },
  {
   "cell_type": "code",
   "execution_count": 21,
   "metadata": {},
   "outputs": [
    {
     "name": "stdout",
     "output_type": "stream",
     "text": [
      "Withdrawal of 11 dollars to your savings account was Unsuccessful, please enter amount less than balance\n"
     ]
    }
   ],
   "source": [
    "savings_balance, checking_balance = make_withdrawal(\"savings\", 11,checking_balance,savings_balance)"
   ]
  },
  {
   "cell_type": "code",
   "execution_count": 22,
   "metadata": {},
   "outputs": [
    {
     "data": {
      "text/plain": [
       "'Your savings balance is 10.'"
      ]
     },
     "execution_count": 22,
     "metadata": {},
     "output_type": "execute_result"
    }
   ],
   "source": [
    "check_balance(\"savings\", checking_balance, savings_balance)"
   ]
  },
  {
   "cell_type": "code",
   "execution_count": 23,
   "metadata": {},
   "outputs": [
    {
     "name": "stdout",
     "output_type": "stream",
     "text": [
      "Withdrawal of 170 dollars to your checking account was successful\n"
     ]
    }
   ],
   "source": [
    "savings_balance, checking_balance = make_withdrawal(\"checking\",170,checking_balance,savings_balance)"
   ]
  },
  {
   "cell_type": "code",
   "execution_count": 24,
   "metadata": {},
   "outputs": [
    {
     "data": {
      "text/plain": [
       "'Your checking balance is 30.'"
      ]
     },
     "execution_count": 24,
     "metadata": {},
     "output_type": "execute_result"
    }
   ],
   "source": [
    "check_balance(\"checking\", checking_balance,savings_balance)"
   ]
  },
  {
   "cell_type": "code",
   "execution_count": 25,
   "metadata": {},
   "outputs": [],
   "source": [
    "def acc_transfer(acc_from, acc_to, amount, checking_balance, savings_balance):\n",
    "    trans_status = \"\"\n",
    "    trans_error = \"unsuccessful, please enter amount less than \"\n",
    "    \n",
    "    if acc_from == \"savings\" and acc_to == \"checking\":\n",
    "        if amount <= savings_balance:\n",
    "            savings_balance -= amount\n",
    "            checking_balance += amount\n",
    "            trans_status = \"successful\"\n",
    "        else:\n",
    "            trans_status = trans_error + str(savings_balance)\n",
    "            \n",
    "    elif acc_to == \"savings\" and acc_from == \"checking\":\n",
    "        if amount <= checking_balance:\n",
    "            checking_balance -= amount\n",
    "            savings_balance += amount\n",
    "            trans_status = \"successful\"\n",
    "        else:\n",
    "            trans_status = trans_error + str(checking_balance)\n",
    "        \n",
    "    else:\n",
    "        trans_status = \"Unsuccessful, please enter \\\"checking\\\" or \\\"savings\\\"\"\n",
    "        \n",
    "    trans_statement = \"Transfer of \"+ str(amount) + \" from your \" + acc_from + \" to your \"+ acc_to +\" account was \" + trans_status + \".\"\n",
    "        \n",
    "        \n",
    "    print(trans_statement)\n",
    "    \n",
    "    return savings_balance, checking_balance "
   ]
  },
  {
   "cell_type": "code",
   "execution_count": 27,
   "metadata": {},
   "outputs": [
    {
     "name": "stdout",
     "output_type": "stream",
     "text": [
      "Transfer of 40 from your checking to your savings account was unsuccessful, please enter amount less than 30.\n"
     ]
    }
   ],
   "source": [
    "savings_balance, checking_balance = acc_transfer(\"checking\", \"savings\", 40,checking_balance,savings_balance)"
   ]
  },
  {
   "cell_type": "code",
   "execution_count": 28,
   "metadata": {},
   "outputs": [
    {
     "data": {
      "text/plain": [
       "'Your checking balance is 30.'"
      ]
     },
     "execution_count": 28,
     "metadata": {},
     "output_type": "execute_result"
    }
   ],
   "source": [
    "check_balance(\"checking\", checking_balance, savings_balance)"
   ]
  },
  {
   "cell_type": "code",
   "execution_count": 29,
   "metadata": {},
   "outputs": [
    {
     "name": "stdout",
     "output_type": "stream",
     "text": [
      "Transfer of 5 from your savings to your checking account was successful.\n"
     ]
    }
   ],
   "source": [
    "savings_balance, checking_balance = acc_transfer(\"savings\",\"checking\", 5,checking_balance,savings_balance)"
   ]
  },
  {
   "cell_type": "code",
   "execution_count": 30,
   "metadata": {},
   "outputs": [
    {
     "data": {
      "text/plain": [
       "'Your savings balance is 5.'"
      ]
     },
     "execution_count": 30,
     "metadata": {},
     "output_type": "execute_result"
    }
   ],
   "source": [
    "check_balance(\"savings\", checking_balance, savings_balance)"
   ]
  },
  {
   "cell_type": "code",
   "execution_count": null,
   "metadata": {},
   "outputs": [],
   "source": []
  }
 ],
 "metadata": {
  "kernelspec": {
   "display_name": "Python 3",
   "language": "python",
   "name": "python3"
  },
  "language_info": {
   "codemirror_mode": {
    "name": "ipython",
    "version": 3
   },
   "file_extension": ".py",
   "mimetype": "text/x-python",
   "name": "python",
   "nbconvert_exporter": "python",
   "pygments_lexer": "ipython3",
   "version": "3.8.3"
  }
 },
 "nbformat": 4,
 "nbformat_minor": 4
}
